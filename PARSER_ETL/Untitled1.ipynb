{
 "cells": [
  {
   "cell_type": "code",
   "execution_count": 18,
   "id": "bf4a6e11-fa5a-41ea-b838-522d118caf84",
   "metadata": {},
   "outputs": [],
   "source": [
    "\n",
    "#import mca\n",
    "import prince\n",
    "\n",
    "# Import Numeric library\n",
    "import numpy as np\n",
    "\n",
    "# Import plotting libraries\n",
    "import matplotlib.pyplot as plt\n",
    "import seaborn as sns\n",
    "import missingno as msno\n",
    "\n",
    "# Set plot to be show inside the notebook\n",
    "%matplotlib inline\n",
    "\n",
    "# Import data manipulation library\n",
    "import pandas as pd\n",
    "\n",
    "# Import function to compose filepath using the current OS directory separator\n",
    "from os.path import join as path_join\n",
    "\n",
    "# Import OS identifier\n",
    "from os import name as os_name\n",
    "import glob\n",
    "import openpyxl\n",
    "import os\n"
   ]
  },
  {
   "cell_type": "markdown",
   "id": "f178bb01-24d1-497f-8627-11c1fb907e88",
   "metadata": {},
   "source": [
    "Recebimento dos dados"
   ]
  },
  {
   "cell_type": "code",
   "execution_count": 17,
   "id": "3121b275-2f59-48f1-9954-f49423e47009",
   "metadata": {},
   "outputs": [],
   "source": [
    "path_Venda_produtos_tratados = \"C://Users/otavi/OneDrive/Codes/Codes/Parser_ETL/venda_produtos_tratados/\""
   ]
  },
  {
   "cell_type": "code",
   "execution_count": 15,
   "id": "6c1433f0-a3de-47fd-b663-de69f2c01553",
   "metadata": {},
   "outputs": [],
   "source": [
    "os.chdir(path_Venda_produtos_tratados)\n",
    "   \n",
    "     "
   ]
  },
  {
   "cell_type": "code",
   "execution_count": 16,
   "id": "7ebcd3f8-f8ee-4914-8090-ba21e60fde59",
   "metadata": {},
   "outputs": [],
   "source": [
    "for file in glob.glob(\"*.xls\"):\n",
    "            df_check = pd.read_excel(file)\n",
    "            msno.matrix(df_check) "
   ]
  },
  {
   "cell_type": "code",
   "execution_count": null,
   "id": "999e7c63-02bf-4874-876e-2e3748795f1d",
   "metadata": {},
   "outputs": [],
   "source": []
  }
 ],
 "metadata": {
  "kernelspec": {
   "display_name": "Python 3 (ipykernel)",
   "language": "python",
   "name": "python3"
  },
  "language_info": {
   "codemirror_mode": {
    "name": "ipython",
    "version": 3
   },
   "file_extension": ".py",
   "mimetype": "text/x-python",
   "name": "python",
   "nbconvert_exporter": "python",
   "pygments_lexer": "ipython3",
   "version": "3.8.6"
  }
 },
 "nbformat": 4,
 "nbformat_minor": 5
}
